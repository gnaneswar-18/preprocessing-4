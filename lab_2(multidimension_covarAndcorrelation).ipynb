{
  "nbformat": 4,
  "nbformat_minor": 0,
  "metadata": {
    "colab": {
      "provenance": [],
      "authorship_tag": "ABX9TyNsy9KDNHEa7oQ+5Kh/aUIu",
      "include_colab_link": true
    },
    "kernelspec": {
      "name": "python3",
      "display_name": "Python 3"
    },
    "language_info": {
      "name": "python"
    }
  },
  "cells": [
    {
      "cell_type": "markdown",
      "metadata": {
        "id": "view-in-github",
        "colab_type": "text"
      },
      "source": [
        "<a href=\"https://colab.research.google.com/github/gnaneswar-18/preprocessing-4/blob/main/lab_2(multidimension_covarAndcorrelation).ipynb\" target=\"_parent\"><img src=\"https://colab.research.google.com/assets/colab-badge.svg\" alt=\"Open In Colab\"/></a>"
      ]
    },
    {
      "cell_type": "code",
      "execution_count": 2,
      "metadata": {
        "colab": {
          "base_uri": "https://localhost:8080/"
        },
        "id": "QaCbZzjguBvx",
        "outputId": "93afa779-abd4-4af0-998b-201beeae4b47"
      },
      "outputs": [
        {
          "output_type": "stream",
          "name": "stdout",
          "text": [
            "Original Matrix (MxN):\n",
            " [[0.17974185 0.52386271 0.43573619 0.15530221 0.60772011 0.27849535\n",
            "  0.51061789 0.85746491 0.59001441 0.48126627]\n",
            " [0.60482681 0.4453397  0.37644581 0.98347621 0.64555495 0.85117089\n",
            "  0.38386513 0.47919114 0.59405286 0.00180117]\n",
            " [0.48239571 0.267064   0.11319441 0.24731297 0.37802868 0.0799413\n",
            "  0.80357628 0.35652463 0.94345237 0.31314427]\n",
            " [0.81714586 0.42741353 0.40460207 0.74311458 0.32228853 0.50084241\n",
            "  0.07140113 0.88284538 0.31822796 0.68419188]\n",
            " [0.35105721 0.11229607 0.60729092 0.75757044 0.72334041 0.74300157\n",
            "  0.50687245 0.62518417 0.3822083  0.0486514 ]]\n",
            "\n",
            "Covariance Matrix (MxM):\n",
            " [[ 0.04540815 -0.0258532   0.01652623 -0.00903062 -0.00552629]\n",
            " [-0.0258532   0.07389904 -0.00989914  0.00751379  0.05003192]\n",
            " [ 0.01652623 -0.00989914  0.07784187 -0.03049765 -0.01569038]\n",
            " [-0.00903062  0.00751379 -0.03049765  0.06665691 -0.00227628]\n",
            " [-0.00552629  0.05003192 -0.01569038 -0.00227628  0.0656178 ]]\n",
            "\n",
            "Correlation Matrix (MxM):\n",
            " [[ 1.         -0.44630109  0.2779715  -0.16414508 -0.10124084]\n",
            " [-0.44630109  1.         -0.13051826  0.10705755  0.71848376]\n",
            " [ 0.2779715  -0.13051826  1.         -0.4233867  -0.21954118]\n",
            " [-0.16414508  0.10705755 -0.4233867   1.         -0.03441852]\n",
            " [-0.10124084  0.71848376 -0.21954118 -0.03441852  1.        ]]\n"
          ]
        }
      ],
      "source": [
        "import numpy as np\n",
        "M = 5\n",
        "N = 10\n",
        "matrix = np.random.rand(M, N)\n",
        "\n",
        "transposed_matrix = matrix.T\n",
        "cov_matrix = np.cov(transposed_matrix, rowvar=False)\n",
        "corr_matrix = np.corrcoef(transposed_matrix, rowvar=False)\n",
        "print(\"Original Matrix (MxN):\\n\", matrix)\n",
        "print(\"\\nCovariance Matrix (MxM):\\n\", cov_matrix)\n",
        "print(\"\\nCorrelation Matrix (MxM):\\n\", corr_matrix)\n",
        "\n"
      ]
    }
  ]
}